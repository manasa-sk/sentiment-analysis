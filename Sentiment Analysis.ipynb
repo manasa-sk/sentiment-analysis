{
 "cells": [
  {
   "cell_type": "code",
   "execution_count": 111,
   "id": "0278c457",
   "metadata": {},
   "outputs": [],
   "source": [
    "import pandas as pd\n",
    "import numpy as np"
   ]
  },
  {
   "cell_type": "markdown",
   "id": "c9516f19",
   "metadata": {},
   "source": [
    "## Importing and Preparing Data"
   ]
  },
  {
   "cell_type": "code",
   "execution_count": 112,
   "id": "6f50b8ac",
   "metadata": {},
   "outputs": [],
   "source": [
    "data = pd.read_csv(\"data.csv\")\n",
    "\n",
    "def sentimentNumeric(sentiment):\n",
    "    if sentiment==\"positive\":\n",
    "        return 1\n",
    "    elif sentiment==\"neutral\":\n",
    "        return 0\n",
    "    elif sentiment==\"negative\":\n",
    "        return -1\n",
    "\n",
    "data[\"sentiment numeric\"] = [sentimentNumeric(sentiment) for sentiment in data[\"Sentiment\"]]"
   ]
  },
  {
   "cell_type": "markdown",
   "id": "8eea928e",
   "metadata": {},
   "source": [
    "## Splitting Data into Training and Testing Sets"
   ]
  },
  {
   "cell_type": "code",
   "execution_count": 113,
   "id": "420ee574",
   "metadata": {},
   "outputs": [],
   "source": [
    "from sklearn.model_selection import train_test_split\n",
    "\n",
    "training, test = train_test_split(data, test_size=0.3, random_state=42)\n",
    "\n",
    "x_train, x_test, y_train, y_test = training[\"Sentence\"], test[\"Sentence\"], training[\"sentiment numeric\"], test[\"sentiment numeric\"]"
   ]
  },
  {
   "cell_type": "markdown",
   "id": "4aafaf9e",
   "metadata": {},
   "source": [
    "## Vectorization of Text"
   ]
  },
  {
   "cell_type": "code",
   "execution_count": 114,
   "id": "73201211",
   "metadata": {},
   "outputs": [],
   "source": [
    "from sklearn.feature_extraction.text import CountVectorizer\n",
    "tv = CountVectorizer()\n",
    "\n",
    "x_train_v = tv.fit_transform(x_train)\n",
    "x_test_v = tv.transform(x_test)"
   ]
  },
  {
   "cell_type": "markdown",
   "id": "32778751",
   "metadata": {},
   "source": [
    "## Classification"
   ]
  },
  {
   "cell_type": "markdown",
   "id": "ff38bb34",
   "metadata": {},
   "source": [
    "### Support Vector Machine"
   ]
  },
  {
   "cell_type": "code",
   "execution_count": 115,
   "id": "718a141a",
   "metadata": {},
   "outputs": [],
   "source": [
    "from sklearn import svm\n",
    "clf = svm.SVC()\n",
    "clf.fit(x_train_v, y_train)\n",
    "prediction = clf.predict(x_test_v)\n",
    "\n",
    "from sklearn.metrics import accuracy_score\n",
    "svm_score = accuracy_score(y_test, prediction)"
   ]
  },
  {
   "cell_type": "markdown",
   "id": "9a99efae",
   "metadata": {},
   "source": [
    "### Decision Tree"
   ]
  },
  {
   "cell_type": "code",
   "execution_count": 116,
   "id": "03dbfab3",
   "metadata": {},
   "outputs": [],
   "source": [
    "from sklearn.tree import DecisionTreeClassifier\n",
    "dtc = DecisionTreeClassifier()\n",
    "dtc.fit(x_train_v, y_train)\n",
    "decisiontree_score = dtc.score(x_test_v, y_test)"
   ]
  },
  {
   "cell_type": "markdown",
   "id": "f7508435",
   "metadata": {},
   "source": [
    "### Random Forest Classifier"
   ]
  },
  {
   "cell_type": "code",
   "execution_count": 117,
   "id": "72179a96",
   "metadata": {},
   "outputs": [],
   "source": [
    "from sklearn.ensemble import RandomForestClassifier\n",
    "rfc = RandomForestClassifier()\n",
    "rfc.fit(x_train_v, y_train)\n",
    "randomforest_score = rfc.score(x_test_v, y_test)"
   ]
  },
  {
   "cell_type": "markdown",
   "id": "b814b234",
   "metadata": {},
   "source": [
    "### Multinomial Naive Bayes"
   ]
  },
  {
   "cell_type": "code",
   "execution_count": 118,
   "id": "84bb810d",
   "metadata": {},
   "outputs": [],
   "source": [
    "from sklearn.naive_bayes import MultinomialNB\n",
    "gnb = MultinomialNB()\n",
    "gnb.fit(x_train_v.toarray(), y_train)\n",
    "multinomialNB_score = gnb.score(x_test_v.toarray(), y_test)"
   ]
  },
  {
   "cell_type": "markdown",
   "id": "bb837828",
   "metadata": {},
   "source": [
    "### Logistic Regression"
   ]
  },
  {
   "cell_type": "code",
   "execution_count": 119,
   "id": "afca262a",
   "metadata": {},
   "outputs": [],
   "source": [
    "from sklearn.linear_model import LogisticRegression\n",
    "lr = LogisticRegression(max_iter=300)\n",
    "lr.fit(x_train_v, y_train)\n",
    "logisticregression_score = lr.score(x_test_v, y_test)"
   ]
  },
  {
   "cell_type": "markdown",
   "id": "cd9bcc68",
   "metadata": {},
   "source": [
    "### Multi-Layer Perceptron"
   ]
  },
  {
   "cell_type": "code",
   "execution_count": 120,
   "id": "c805a990",
   "metadata": {},
   "outputs": [],
   "source": [
    "from sklearn.neural_network import MLPClassifier\n",
    "mlp = MLPClassifier(activation=\"logistic\", solver=\"lbfgs\", max_iter=400)\n",
    "mlp.fit(x_train_v, y_train)\n",
    "mLP_score = mlp.score(x_test_v, y_test)"
   ]
  },
  {
   "cell_type": "markdown",
   "id": "93434858",
   "metadata": {},
   "source": [
    "### Stacking Classifiers"
   ]
  },
  {
   "cell_type": "markdown",
   "id": "a0846836",
   "metadata": {},
   "source": [
    "#### Layer: 3 Classifiers (\n",
    "####    Stacked Classifiers ( Final Classifier: Logistic Regression\n",
    "####        1: (Random Forest Classifier, Multinomial Naive Bayes, Multi-Layer Perceptron)\n",
    "####        2: (Multi-Layer Perceptron, Logistic Regression, Support Vector Machine)\n",
    "####        3: (Multinomial Naive Bayes, Multi-Layer Perceptron, Logistic Regression)\n",
    "####    )\n",
    "#### )"
   ]
  },
  {
   "cell_type": "code",
   "execution_count": 121,
   "id": "6a6d5c09",
   "metadata": {},
   "outputs": [],
   "source": [
    "from sklearn.ensemble import StackingClassifier\n",
    "\n",
    "estim1 = [('rfc', RandomForestClassifier(random_state=42)), ('gnb', MultinomialNB()), ('mlp', MLPClassifier(activation=\"logistic\", solver=\"lbfgs\", max_iter=400))]\n",
    "estim2 = [('mlp', MLPClassifier(activation=\"logistic\", solver=\"lbfgs\", max_iter=400)), ('lr', LogisticRegression(max_iter=300)), ('clf', svm.SVC())]\n",
    "estim3 = [('gnb', MultinomialNB()), ('mlp', MLPClassifier(activation=\"logistic\", solver=\"lbfgs\", max_iter=400)), ('lr', LogisticRegression(max_iter=300))]\n",
    "\n",
    "stc1 = StackingClassifier(estimators=estim1, final_estimator=lr)\n",
    "stc2 = StackingClassifier(estimators=estim2, final_estimator=lr)\n",
    "stc3 = StackingClassifier(estimators=estim3, final_estimator=lr)\n",
    "\n",
    "estim = [('e1', stc1), ('e2', stc2), ('e3', stc3)]\n",
    "stc = StackingClassifier(estimators=estim, final_estimator=lr)\n",
    "\n",
    "fit1 = stc1.fit(x_train_v, y_train)\n",
    "fit2 = stc2.fit(x_train_v, y_train)\n",
    "fit3 = stc3.fit(x_train_v, y_train)\n",
    "\n",
    "predi1 = fit1.predict(x_test_v)\n",
    "predi2 = fit2.predict(x_test_v)\n",
    "predi3 = fit3.predict(x_test_v)\n",
    "\n",
    "def roundOff(num):\n",
    "    if num>=0:\n",
    "        if int(num)==int(num+0.5):\n",
    "            return int(num)\n",
    "        else:\n",
    "            return int(num)+1\n",
    "    else:\n",
    "        if int(num)==int(num-0.5):\n",
    "            return int(num)\n",
    "        else:\n",
    "            return int(num)-1\n",
    "\n",
    "        \n",
    "predi = [roundOff((predi1[i]+predi2[i]+predi3[i])/3) for i in range(len(predi1))]\n",
    "\n",
    "stacked_score = accuracy_score(y_test, predi)"
   ]
  },
  {
   "cell_type": "markdown",
   "id": "38a166cb",
   "metadata": {},
   "source": [
    "### Comparing Accuracy of Classifiers"
   ]
  },
  {
   "cell_type": "code",
   "execution_count": 122,
   "id": "0d7e5837",
   "metadata": {},
   "outputs": [
    {
     "data": {
      "image/png": "[encoded data removed]",
      "text/plain": [
       "<Figure size 648x360 with 1 Axes>"
      ]
     },
     "metadata": {
      "needs_background": "light"
     },
     "output_type": "display_data"
    }
   ],
   "source": [
    "import matplotlib.pyplot as plt\n",
    "\n",
    "score_plot = {\n",
    "    'SVM': svm_score,\n",
    "    'LR': logisticregression_score,\n",
    "    'DT': decisiontree_score,\n",
    "    'RFC': randomforest_score,\n",
    "    'MNB': multinomialNB_score,\n",
    "    'MLP': mLP_score,\n",
    "    'SC': stacked_score\n",
    "}\n",
    "\n",
    "fig = plt.figure(figsize=(9, 5))\n",
    "plt.plot(list(score_plot.keys()), list(score_plot.values()), marker='o')\n",
    "plt.xlabel(\"Accuracy Score\")\n",
    "plt.ylabel(\"Classifiers\")\n",
    "plt.title(\"Accuracy of Classifier Predictions\")\n",
    "plt.show()"
   ]
  },
  {
   "cell_type": "markdown",
   "id": "0935e0ea",
   "metadata": {},
   "source": [
    "### Implementing Stacked Classifier"
   ]
  },
  {
   "cell_type": "code",
   "execution_count": 127,
   "id": "0ce0112e",
   "metadata": {},
   "outputs": [
    {
     "name": "stdout",
     "output_type": "stream",
     "text": [
      "Enter Financial Statement: Lithuanian beer makers sold 256.88 million liters of beer in 2005 , a rise of 4.5 per cent from the year-earlier figure of 245.92 million liters .\n",
      "POSITIVE\n"
     ]
    },
    {
     "data": {
      "text/plain": [
       "True"
      ]
     },
     "execution_count": 127,
     "metadata": {},
     "output_type": "execute_result"
    }
   ],
   "source": [
    "class ClassifyStatement():\n",
    "    def __init__(self, sentence):\n",
    "        arr = [sentence]\n",
    "        self.vectorText = tv.transform(arr)\n",
    "    \n",
    "    def __convertToSentiment(self, num):\n",
    "        if num==-1:\n",
    "            return \"NEGATIVE\"\n",
    "        elif num==0:\n",
    "            return \"NEUTRAL\"\n",
    "        elif num==1:\n",
    "            return \"POSITIVE\"\n",
    "    \n",
    "    def __roundOff(self, num):\n",
    "        if num>=0:\n",
    "            if int(num)==int(num+0.5):\n",
    "                return int(num)\n",
    "            else:\n",
    "                return int(num)+1\n",
    "        else:\n",
    "            if int(num)==int(num-0.5):\n",
    "                return int(num)\n",
    "            else:\n",
    "                return int(num)-1\n",
    "    \n",
    "    def predictClass(self):\n",
    "        predi1 = fit1.predict(self.vectorText)\n",
    "        predi2 = fit2.predict(self.vectorText)\n",
    "        predi3 = fit3.predict(self.vectorText)\n",
    "        \n",
    "        predi = self.__roundOff((predi1[0]+predi2[0]+predi3[0])/3)\n",
    "        print(self.__convertToSentiment(predi))\n",
    "        return True\n",
    "\n",
    "\n",
    "user_sentence = input(\"Enter Financial Statement: \")\n",
    "obj = ClassifyStatement(user_sentence)\n",
    "obj.predictClass()"
   ]
  }
 ],
 "metadata": {
  "kernelspec": {
   "display_name": "Python 3 (ipykernel)",
   "language": "python",
   "name": "python3"
  },
  "language_info": {
   "codemirror_mode": {
    "name": "ipython",
    "version": 3
   },
   "file_extension": ".py",
   "mimetype": "text/x-python",
   "name": "python",
   "nbconvert_exporter": "python",
   "pygments_lexer": "ipython3",
   "version": "3.9.7"
  }
 },
 "nbformat": 4,
 "nbformat_minor": 5
}
